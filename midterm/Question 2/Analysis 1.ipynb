{
 "cells": [
  {
   "cell_type": "markdown",
   "metadata": {},
   "source": [
    "# Question 2 - Analysis 1 \n",
    "- From Article Search API, collect data and store it as json file.\n",
    "- analyse the data for each year\n",
    "- from the articles identify the popular sport for each year and month."
   ]
  },
  {
   "cell_type": "markdown",
   "metadata": {},
   "source": [
    "# Popular Sports for each year"
   ]
  },
  {
   "cell_type": "code",
   "execution_count": 8,
   "metadata": {
    "collapsed": false
   },
   "outputs": [],
   "source": [
    "import os\n",
    "import glob\n",
    "from email.parser import Parser\n",
    "import email.utils\n",
    "import csv\n",
    "import json\n",
    "from datetime import datetime\n",
    "import collections "
   ]
  },
  {
   "cell_type": "code",
   "execution_count": 19,
   "metadata": {
    "collapsed": false
   },
   "outputs": [],
   "source": [
    "data_path = os.path.expanduser('~')\n",
    "data_path = os.path.join(data_path, 'midterm')\n",
    "data_path = os.path.join(data_path, 'data')\n",
    "path = os.path.join(data_path,'Sports')"
   ]
  },
  {
   "cell_type": "code",
   "execution_count": 10,
   "metadata": {
    "collapsed": false
   },
   "outputs": [],
   "source": [
    "files = glob.glob(path+ '\\\\' + '*' + '.json')\n",
    "#print(files)"
   ]
  },
  {
   "cell_type": "code",
   "execution_count": 15,
   "metadata": {
    "collapsed": false
   },
   "outputs": [
    {
     "name": "stdout",
     "output_type": "stream",
     "text": [
      "{'2017': {'01': {'Auto Racing': 1, 'Baseball': 2, 'Soccer': 5, 'Hockey': 5, 'Golf': 1, 'Basketball': 10, 'Football': 13, 'Tennis': 1}, '02': {'Olympics': 2, 'Baseball': 4, 'Soccer': 11, 'Hockey': 1, 'Golf': 1, 'Basketball': 8, 'Football': 5, 'Tennis': 1}}, '2016': {'10': {'Rugby': 1, 'Olympics': 6, 'Soccer': 4, 'Baseball': 9, 'Hockey': 4, 'Golf': 1, 'Cycling': 1, 'Basketball': 6, 'Football': 10, 'Auto Racing': 1}, '08': {'Rugby': 1, 'Olympics': 123, 'Soccer': 8, 'Baseball': 9, 'Hockey': 1, 'Cycling': 5, 'Football': 12, 'Tennis': 2}, '05': {'Rugby': 1, 'Olympics': 11, 'Soccer': 7, 'Baseball': 9, 'Horse Racing': 3, 'Cricket': 1, 'Football': 6, 'Tennis': 1, 'Hockey': 14, 'Auto Racing': 1, 'Golf': 2, 'Basketball': 18}, '06': {'Rugby': 2, 'Olympics': 26, 'Soccer': 9, 'Baseball': 12, 'Horse Racing': 1, 'Cricket': 1, 'Basketball': 26, 'Hockey': 9, 'Tennis': 2, 'Football': 6, 'Golf': 3, 'Auto Racing': 3}, '03': {'Rugby': 1, 'Olympics': 8, 'Baseball': 9, 'Soccer': 10, 'Hockey': 4, 'Auto Racing': 1, 'Golf': 2, 'Cycling': 2, 'Basketball': 44, 'Football': 4, 'Tennis': 5}, '01': {'Auto Racing': 1, 'Olympics': 1, 'Soccer': 7, 'Baseball': 2, 'Tennis': 4, 'Basketball': 8, 'Football': 14, 'Hockey': 6}, '11': {'Olympics': 3, 'Football': 7, 'Soccer': 5, 'Baseball': 7, 'Golf': 1, 'Basketball': 7, 'Hockey': 2, 'Auto Racing': 1}, '04': {'Rugby': 2, 'Olympics': 2, 'Football': 6, 'Soccer': 9, 'Baseball': 8, 'Golf': 2, 'Basketball': 23, 'Hockey': 15, 'Tennis': 2}, '02': {'Rugby': 1, 'Olympics': 4, 'Baseball': 6, 'Soccer': 11, 'Football': 8, 'Auto Racing': 4, 'Basketball': 20, 'Hockey': 5, 'Tennis': 1}, '09': {'Rugby': 1, 'Olympics': 4, 'Soccer': 3, 'Baseball': 10, 'Cricket': 1, 'Golf': 2, 'Basketball': 3, 'Football': 14, 'Tennis': 4}, '07': {'Olympics': 23, 'Soccer': 5, 'Baseball': 10, 'Horse Racing': 1, 'Golf': 1, 'Tennis': 1, 'Basketball': 7, 'Football': 5, 'Cycling': 2}, '12': {'Olympics': 7, 'Soccer': 13, 'Baseball': 3, 'Hockey': 2, 'Golf': 1, 'Basketball': 9, 'Football': 19, 'Auto Racing': 4}}, '2015': {'02': {'Auto Racing': 1, 'Olympics': 4, 'Soccer': 3, 'Hockey': 2, 'Cricket': 1, 'Golf': 5, 'Basketball': 8, 'Football': 5, 'Baseball': 6}, '08': {'Olympics': 7, 'Soccer': 7, 'Baseball': 6, 'Cricket': 1, 'Tennis': 6, 'Basketball': 1, 'Football': 8, 'Auto Racing': 1}, '05': {'Rugby': 1, 'Soccer': 4, 'Football': 4, 'Golf': 1, 'Basketball': 6, 'Hockey': 7}, '06': {'Auto Racing': 3, 'Olympics': 5, 'Soccer': 27, 'Hockey': 8, 'Cricket': 1, 'Golf': 11, 'Tennis': 3, 'Basketball': 13, 'Football': 3, 'Baseball': 4}, '09': {'Rugby': 3, 'Cricket': 2, 'Soccer': 6, 'Baseball': 16, 'Olympics': 2, 'Hockey': 1, 'Auto Racing': 2, 'Football': 15, 'Tennis': 3}, '03': {'Rugby': 1, 'Olympics': 1, 'Baseball': 2, 'Soccer': 5, 'Hockey': 4, 'Cricket': 2, 'Basketball': 25, 'Football': 3, 'Cycling': 3}, '07': {'Rugby': 1, 'Olympics': 4, 'Football': 1, 'Soccer': 10, 'Baseball': 12, 'Golf': 1, 'Tennis': 6, 'Basketball': 2, 'Auto Racing': 1, 'Cycling': 4}, '01': {'Olympics': 3, 'International Sports': 1, 'Soccer': 8, 'Baseball': 2, 'Golf': 2, 'Basketball': 7, 'Football': 26, 'Tennis': 1}, '10': {'Rugby': 2, 'Olympics': 2, 'Soccer': 6, 'Baseball': 10, 'Basketball': 3, 'Football': 14, 'Hockey': 2}, '04': {'Rugby': 2, 'Olympics': 1, 'Soccer': 9, 'Baseball': 9, 'Auto Racing': 1, 'Golf': 1, 'Basketball': 18, 'Football': 4, 'Hockey': 10}}}\n"
     ]
    }
   ],
   "source": [
    "sport_data ={}\n",
    "for file in files:\n",
    "    with open(file, \"r\") as f:\n",
    "        data = json.load(f)\n",
    "        response = data.get('response')\n",
    "        docs = response.get('docs')\n",
    "        for x in docs:\n",
    "            article_date = x.get('pub_date')\n",
    "            #print(article_date)\n",
    "            year = article_date[:4] \n",
    "            month = article_date[5:7] \n",
    "            #print(year) \n",
    "            #print(month)\n",
    "            #print(article_date)\n",
    "            section_name = x.get('section_name')\n",
    "            if section_name == 'Sports':\n",
    "                #print(file)\n",
    "                subsection_name = x.get('subsection_name')\n",
    "                \n",
    "                \n",
    "                #print(subsection_name)\n",
    "                if subsection_name is not None:\n",
    "                    subsection_name = subsection_name.replace('Pro ','')\n",
    "                    subsection_name = subsection_name.replace('College ','')\n",
    "                    if year not in sport_data:\n",
    "                        sport_data[year] = {}\n",
    "                        sport_data[year][month] = {}\n",
    "                        sport_data[year][month][subsection_name] =1\n",
    "                    else:\n",
    "                        if month not in sport_data[year]:\n",
    "                            sport_data[year][month] = {}\n",
    "                            sport_data[year][month][subsection_name] =1\n",
    "                        else: \n",
    "                            if subsection_name not in sport_data[year][month]:\n",
    "                                sport_data[year][month][subsection_name] =1\n",
    "                            else:\n",
    "                                sport_data[year][month][subsection_name] += 1\n",
    "                            \n",
    "print(sport_data)"
   ]
  },
  {
   "cell_type": "code",
   "execution_count": 18,
   "metadata": {
    "collapsed": false,
    "scrolled": true
   },
   "outputs": [
    {
     "name": "stdout",
     "output_type": "stream",
     "text": [
      "2015\n",
      "['01', '02', '03', '04', '05', '06', '07', '08', '09', '10']\n",
      "2016\n",
      "['01', '02', '03', '04', '05', '06', '07', '08', '09', '10', '11', '12']\n",
      "2017\n",
      "['01', '02']\n"
     ]
    }
   ],
   "source": [
    "OutputFile = open ('PopularSport.csv', 'wt', newline = '' , encoding='utf-8') #create and open CSV file in wirte mode\n",
    "recordwriter = csv.writer(OutputFile)\n",
    "#recordwriter.writerow(['Author' , 'Articles Shared', 'Articles Viewed' , 'Articles Emailed' ] )\n",
    "recordwriter.writerow(['Year', 'Month' , 'Sports Name' , 'No of Articles Publised'])\n",
    "sortedYear = sorted(sport_data)\n",
    "#print(sortedYear)\n",
    "for year in sortedYear:\n",
    "    print(year)\n",
    "    listOfMonths = []\n",
    "    listOfMonths = sorted(sport_data[year])\n",
    "    print(listOfMonths)\n",
    "    for month in listOfMonths:\n",
    "        listOfSports = []\n",
    "        listOfSports = sorted(sport_data[year][month], key=sport_data[year][month].__getitem__ , reverse= True)\n",
    "        for sport in listOfSports:\n",
    "            recordwriter.writerow([year, month , sport, sport_data[year][month][sport] ] )\n",
    "        #print(sport, ' ' , sport_data[year][sport] )\n",
    "    recordwriter.writerow([''] )\n",
    "\n",
    "OutputFile.close()\n"
   ]
  },
  {
   "cell_type": "code",
   "execution_count": 7,
   "metadata": {
    "collapsed": false
   },
   "outputs": [
    {
     "name": "stdout",
     "output_type": "stream",
     "text": [
      "C:\\Users\\jaina\n"
     ]
    }
   ],
   "source": [
    "data_pathxyz = os.path.expanduser('~')\n",
    "print(data_pathxyz)"
   ]
  }
 ],
 "metadata": {
  "anaconda-cloud": {},
  "kernelspec": {
   "display_name": "Python [conda root]",
   "language": "python",
   "name": "conda-root-py"
  },
  "language_info": {
   "codemirror_mode": {
    "name": "ipython",
    "version": 3
   },
   "file_extension": ".py",
   "mimetype": "text/x-python",
   "name": "python",
   "nbconvert_exporter": "python",
   "pygments_lexer": "ipython3",
   "version": "3.5.2"
  }
 },
 "nbformat": 4,
 "nbformat_minor": 1
}
