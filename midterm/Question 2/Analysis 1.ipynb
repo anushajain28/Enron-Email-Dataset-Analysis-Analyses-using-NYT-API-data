{
 "cells": [
  {
   "cell_type": "markdown",
   "metadata": {},
   "source": [
    "# Question 2 - Analysis 1 \n",
    "- From Article Search API, collect data and store it as json file.\n",
    "- analyse the data for each year\n",
    "- from the articles identify the popular sport for each year and month."
   ]
  },
  {
   "cell_type": "code",
   "execution_count": 1,
   "metadata": {
    "collapsed": false
   },
   "outputs": [],
   "source": [
    "import os\n",
    "import glob\n",
    "from email.parser import Parser\n",
    "import email.utils\n",
    "import csv\n",
    "import json\n",
    "from datetime import datetime\n",
    "import collections "
   ]
  },
  {
   "cell_type": "code",
   "execution_count": 2,
   "metadata": {
    "collapsed": false
   },
   "outputs": [],
   "source": [
    "data_path = os.path.expanduser('~') \n",
    "data_path = os.path.join(data_path, 'midterm')\n",
    "data_path = os.path.join(data_path, 'data')\n",
    "path = os.path.join(data_path,'Sports')"
   ]
  },
  {
   "cell_type": "code",
   "execution_count": 3,
   "metadata": {
    "collapsed": false
   },
   "outputs": [],
   "source": [
    "files = glob.glob(path+ '\\\\' + '*' + '.json')\n",
    "#print(files)"
   ]
  },
  {
   "cell_type": "code",
   "execution_count": 4,
   "metadata": {
    "collapsed": false
   },
   "outputs": [],
   "source": [
    "sport_data ={}\n",
    "for file in files:\n",
    "    with open(file, \"r\") as f:\n",
    "        data = json.load(f) #load the json data in dictionary\n",
    "        #get the value of tags \n",
    "        response = data.get('response') \n",
    "        docs = response.get('docs')\n",
    "        for x in docs:\n",
    "            article_date = x.get('pub_date') #get the article date\n",
    "            year = article_date[:4]          #substring article date to get year\n",
    "            month = article_date[5:7]        #substring artivle date to get month\n",
    "            section_name = x.get('section_name') \n",
    "            \n",
    "            #process only those articles from Sports sections\n",
    "            \n",
    "            if section_name == 'Sports':\n",
    "                subsection_name = x.get('subsection_name')\n",
    "                if subsection_name is not None:                                 #check if sucsection name is not empty\n",
    "                    subsection_name = subsection_name.replace('Pro ','')\n",
    "                    subsection_name = subsection_name.replace('College ','')\n",
    "                    if year not in sport_data:                                  #for each year and month, count the number of articles published for each sport\n",
    "                        sport_data[year] = {}                                   #create empty dictionary to store month,sport and count\n",
    "                        sport_data[year][month] = {}                            #dictionary that stores sport and count\n",
    "                        sport_data[year][month][subsection_name] =1             #assign the count as 1 as this is the first article for this year\n",
    "                    else:\n",
    "                        if month not in sport_data[year]:\n",
    "                            sport_data[year][month] = {}\n",
    "                            sport_data[year][month][subsection_name] =1\n",
    "                        else: \n",
    "                            if subsection_name not in sport_data[year][month]:\n",
    "                                sport_data[year][month][subsection_name] =1\n",
    "                            else:\n",
    "                                sport_data[year][month][subsection_name] += 1\n",
    "                            \n",
    "#print(sport_data)"
   ]
  },
  {
   "cell_type": "code",
   "execution_count": 5,
   "metadata": {
    "collapsed": false,
    "scrolled": true
   },
   "outputs": [],
   "source": [
    "OutputFile = open ('PopularSport.csv', 'wt', newline = '' , encoding='utf-8') #create and open CSV file in wirte mode\n",
    "recordwriter = csv.writer(OutputFile)                                        \n",
    "recordwriter.writerow(['Year', 'Month' , 'Sports Name' , 'No of Articles Publised']) # write header to csv file\n",
    "\n",
    "#sort the dictionaly sport_data which has count for each sport for every month of each year\n",
    "sortedYear = sorted(sport_data)             # sort the dictionary based on key\n",
    "for year in sortedYear:\n",
    "    #print(year)\n",
    "    listOfMonths = []\n",
    "    listOfMonths = sorted(sport_data[year])\n",
    "    #print(listOfMonths)\n",
    "    for month in listOfMonths:\n",
    "        listOfSports = []\n",
    "        listOfSports = sorted(sport_data[year][month], key=sport_data[year][month].__getitem__ , reverse= True)\n",
    "        for sport in listOfSports:\n",
    "            recordwriter.writerow([year, month , sport, sport_data[year][month][sport] ] ) \n",
    "    recordwriter.writerow([''] )  #writes an empty record in csv\n",
    "\n",
    "OutputFile.close()\n"
   ]
  }
 ],
 "metadata": {
  "anaconda-cloud": {},
  "kernelspec": {
   "display_name": "Python [conda root]",
   "language": "python",
   "name": "conda-root-py"
  },
  "language_info": {
   "codemirror_mode": {
    "name": "ipython",
    "version": 3
   },
   "file_extension": ".py",
   "mimetype": "text/x-python",
   "name": "python",
   "nbconvert_exporter": "python",
   "pygments_lexer": "ipython3",
   "version": "3.5.2"
  }
 },
 "nbformat": 4,
 "nbformat_minor": 1
}
