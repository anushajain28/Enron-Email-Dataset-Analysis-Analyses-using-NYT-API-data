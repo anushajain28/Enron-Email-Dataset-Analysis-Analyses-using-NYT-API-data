{
 "cells": [
  {
   "cell_type": "markdown",
   "metadata": {},
   "source": [
    "# Question 2 - Analysis 3\n",
    "- collect the data from MOST POPULAR API and store it as json file\n",
    "- analyse the data \n",
    "- based on the number of shares or views of an article , identify the most popular author"
   ]
  },
  {
   "cell_type": "code",
   "execution_count": 3,
   "metadata": {
    "collapsed": true
   },
   "outputs": [],
   "source": [
    "import os\n",
    "import glob\n",
    "from email.parser import Parser\n",
    "import email.utils\n",
    "import csv\n",
    "import json\n",
    "from datetime import datetime\n",
    "import collections\n",
    "import nltk\n",
    "from nltk.corpus import stopwords\n",
    "import string\n",
    "import operator"
   ]
  },
  {
   "cell_type": "code",
   "execution_count": 4,
   "metadata": {
    "collapsed": false
   },
   "outputs": [],
   "source": [
    "data_path = os.path.expanduser('~')\n",
    "data_path = os.path.join(data_path, 'midterm')\n",
    "data_path = os.path.join(data_path, 'data')\n",
    "path = os.path.join(data_path,'Most Popular')"
   ]
  },
  {
   "cell_type": "code",
   "execution_count": 5,
   "metadata": {
    "collapsed": false
   },
   "outputs": [],
   "source": [
    "path1 = os.path.join(path,'Most shared')\n",
    "path2 = os.path.join(path,'Most viewed')\n",
    "path3 = os.path.join(path,'most Email')\n",
    "files_1 = glob.glob(path1+ '\\\\' + '*' + '.json')\n",
    "files_2 = glob.glob(path2+ '\\\\' + '*' + '.json')\n",
    "files_3 = glob.glob(path3+ '\\\\' + '*' + '.json')"
   ]
  },
  {
   "cell_type": "markdown",
   "metadata": {},
   "source": [
    "- To get the total shares of the articles of each authors"
   ]
  },
  {
   "cell_type": "code",
   "execution_count": 13,
   "metadata": {
    "collapsed": false
   },
   "outputs": [],
   "source": [
    "OutputFile = open ('MostPopular.csv', 'wt', newline = '' , encoding='utf-8') #create and open CSV file in wirte mode\n",
    "recordwriter = csv.writer(OutputFile)\n",
    "recordwriter.writerow(['Author' , 'Total Share Count', 'Total View Count' , 'Articles Emailed' ] )\n",
    "share_viewCount = {}\n",
    "for file in files_1:                                                  #loop through all the files\n",
    "    with open(file, \"r\") as f:\n",
    "        data = json.load(f)\n",
    "        results = data.get('results')                                 #returns array of articles\n",
    "        for result in results:                                        #loop through each article\n",
    "            total_shares = result.get('total_shares')                 #get the value of total shares for that article\n",
    "            byline = result.get('byline')                             #gives the author name\n",
    "            byline = byline.replace('By ', '')                        \n",
    "            byline = byline.replace('and ',',')                       #if there are multiple authors replace and by ','\n",
    "            author = byline.split(',')                                #split the authors into list of authors                         \n",
    "            for x in author:                                          #loop through name  \n",
    "                x = x.strip()\n",
    "                #store the author as key and value as another dictionary with 'totalShares' as key\n",
    "                if x not in share_viewCount:                          \n",
    "                    share_viewCount[x]={}\n",
    "                    share_viewCount[x]['totalShares'] = total_shares     \n",
    "                else:\n",
    "                    share_viewCount[x]['totalShares'] += total_shares\n",
    "#print(share_viewCount)"
   ]
  },
  {
   "cell_type": "markdown",
   "metadata": {},
   "source": [
    "- To get the total views of the articles for each author"
   ]
  },
  {
   "cell_type": "code",
   "execution_count": 14,
   "metadata": {
    "collapsed": false
   },
   "outputs": [],
   "source": [
    "for file in files_2:\n",
    "    with open(file, \"r\") as f:\n",
    "        data = json.load(f)\n",
    "        results = data.get('results')\n",
    "        for result in results:\n",
    "            total_views = result.get('views')               #get the value of total shares for that article\n",
    "            byline = result.get('byline')\n",
    "            byline = byline.replace('By ', '')\n",
    "            byline = byline.replace('and ',',')\n",
    "            author = byline.split(',')\n",
    "            #print(author)\n",
    "            for x in author:\n",
    "                x = x.strip()\n",
    "                \n",
    "                #store the author as key and value as another dictionary with 'totalViews' as key \n",
    "                if x not in share_viewCount:\n",
    "                    share_viewCount[x]={}\n",
    "                    share_viewCount[x]['totalViews'] = total_views\n",
    "                else:\n",
    "                    share_viewCount[x]['totalViews'] = 0\n",
    "                    share_viewCount[x]['totalViews'] += total_views"
   ]
  },
  {
   "cell_type": "markdown",
   "metadata": {},
   "source": [
    "- To get how many articles by the author were emailed"
   ]
  },
  {
   "cell_type": "code",
   "execution_count": 8,
   "metadata": {
    "collapsed": false
   },
   "outputs": [],
   "source": [
    "for file in files_3:\n",
    "    with open(file, \"r\") as f:\n",
    "        data = json.load(f)\n",
    "        results = data.get('results')\n",
    "        for result in results:\n",
    "            byline = result.get('byline')\n",
    "            byline = byline.replace('By ', '')\n",
    "            byline = byline.replace('and ',',')\n",
    "            author = byline.split(',')\n",
    "            #print(author)\n",
    "            for x in author:\n",
    "                x = x.strip()\n",
    "                \n",
    "                #store the author as key and value as another dictionary with 'totalEMailed' as key \n",
    "                if x not in share_viewCount:\n",
    "                    share_viewCount[x]= {}\n",
    "                    share_viewCount[x]['totalEmailed'] = 1\n",
    "                else:\n",
    "                    share_viewCount[x]['totalEmailed'] = 0\n",
    "                    share_viewCount[x]['totalEmailed'] += 1"
   ]
  },
  {
   "cell_type": "code",
   "execution_count": 15,
   "metadata": {
    "collapsed": false
   },
   "outputs": [],
   "source": [
    "#for the share_viewCount dictionary add the missing key for each author with value 0\n",
    "for x in share_viewCount:\n",
    "    if 'totalShares' not in share_viewCount[x]:\n",
    "        share_viewCount[x]['totalShares'] = 0\n",
    "    if 'totalViews' not in share_viewCount[x]:\n",
    "        share_viewCount[x]['totalViews'] = 0\n",
    "    if 'totalEmailed' not in share_viewCount[x]:\n",
    "        share_viewCount[x]['totalEmailed'] = 0\n",
    "    if x is not '':\n",
    "        recordwriter.writerow([x , share_viewCount[x]['totalShares'], share_viewCount[x]['totalViews'] , share_viewCount[x]['totalEmailed'] ] )"
   ]
  },
  {
   "cell_type": "code",
   "execution_count": 16,
   "metadata": {
    "collapsed": false
   },
   "outputs": [],
   "source": [
    "#sort the dictionary based on the value of count of total shares for an author\n",
    "author_s ={}\n",
    "for x in share_viewCount:\n",
    "    if x not in author_s:\n",
    "        author_s[x] = share_viewCount[x]['totalShares']\n",
    "sorted_s = sorted(author_s.items(), key=operator.itemgetter(1), reverse=True)\n",
    "\n",
    "#sort the dictionory based on the value of count of total views for an author\n",
    "author_v ={}\n",
    "for x in share_viewCount:\n",
    "    if x not in author_v:\n",
    "        author_v[x] = share_viewCount[x]['totalViews']\n",
    "sorted_v = sorted(author_v.items(), key=operator.itemgetter(1), reverse=True)\n",
    "\n"
   ]
  },
  {
   "cell_type": "code",
   "execution_count": 17,
   "metadata": {
    "collapsed": false
   },
   "outputs": [],
   "source": [
    "most_pop_onShared = sorted_s[0][0]\n",
    "recordwriter.writerow(['Most Popular Author based on articles shared: ' , most_pop_onShared])\n",
    "most_pop_onViews = sorted_v[0][0]\n",
    "recordwriter.writerow(['Most Popular Author based on articles viewed: ' , most_pop_onViews])\n",
    "OutputFile.close()"
   ]
  }
 ],
 "metadata": {
  "anaconda-cloud": {},
  "kernelspec": {
   "display_name": "Python [conda root]",
   "language": "python",
   "name": "conda-root-py"
  },
  "language_info": {
   "codemirror_mode": {
    "name": "ipython",
    "version": 3
   },
   "file_extension": ".py",
   "mimetype": "text/x-python",
   "name": "python",
   "nbconvert_exporter": "python",
   "pygments_lexer": "ipython3",
   "version": "3.5.2"
  }
 },
 "nbformat": 4,
 "nbformat_minor": 1
}
