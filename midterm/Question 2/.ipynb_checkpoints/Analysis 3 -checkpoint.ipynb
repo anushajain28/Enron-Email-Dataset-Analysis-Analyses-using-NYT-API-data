{
 "cells": [
  {
   "cell_type": "markdown",
   "metadata": {},
   "source": [
    "# Question 2 - Analysis 3\n",
    "- collect the data from MOST POPULAR API and store it as json file\n",
    "- analyse the data \n",
    "- based on the number of shares or views of an article , identify the most popular author"
   ]
  },
  {
   "cell_type": "code",
   "execution_count": 2,
   "metadata": {
    "collapsed": true
   },
   "outputs": [],
   "source": [
    "import os\n",
    "import glob\n",
    "from email.parser import Parser\n",
    "import email.utils\n",
    "import csv\n",
    "import json\n",
    "from datetime import datetime\n",
    "import collections\n",
    "import nltk\n",
    "from nltk.corpus import stopwords\n",
    "import string\n",
    "import operator"
   ]
  },
  {
   "cell_type": "code",
   "execution_count": 10,
   "metadata": {
    "collapsed": false
   },
   "outputs": [],
   "source": [
    "data_path = os.path.expanduser('~')\n",
    "data_path = os.path.join(data_path, 'midterm')\n",
    "data_path = os.path.join(data_path, 'data')\n",
    "path = os.path.join(data_path,'Most Popular')"
   ]
  },
  {
   "cell_type": "code",
   "execution_count": 3,
   "metadata": {
    "collapsed": false
   },
   "outputs": [],
   "source": [
    "path1 = os.path.join(path,'Most shared')\n",
    "path2 = os.path.join(path,'Most viewed')\n",
    "path3 = os.path.join(path,'most Email')\n",
    "files_1 = glob.glob(path1+ '\\\\' + '*' + '.json')\n",
    "files_2 = glob.glob(path2+ '\\\\' + '*' + '.json')\n",
    "files_3 = glob.glob(path3+ '\\\\' + '*' + '.json')\n",
    "#words_ss = []\n",
    "#print(files)"
   ]
  },
  {
   "cell_type": "code",
   "execution_count": 1,
   "metadata": {
    "collapsed": false
   },
   "outputs": [
    {
     "ename": "NameError",
     "evalue": "name 'csv' is not defined",
     "output_type": "error",
     "traceback": [
      "\u001b[0;31m---------------------------------------------------------------------------\u001b[0m",
      "\u001b[0;31mNameError\u001b[0m                                 Traceback (most recent call last)",
      "\u001b[0;32m<ipython-input-1-386f938c809b>\u001b[0m in \u001b[0;36m<module>\u001b[0;34m()\u001b[0m\n\u001b[1;32m      1\u001b[0m \u001b[0mOutputFile\u001b[0m \u001b[1;33m=\u001b[0m \u001b[0mopen\u001b[0m \u001b[1;33m(\u001b[0m\u001b[1;34m'MostPopular.csv'\u001b[0m\u001b[1;33m,\u001b[0m \u001b[1;34m'wt'\u001b[0m\u001b[1;33m,\u001b[0m \u001b[0mnewline\u001b[0m \u001b[1;33m=\u001b[0m \u001b[1;34m''\u001b[0m \u001b[1;33m,\u001b[0m \u001b[0mencoding\u001b[0m\u001b[1;33m=\u001b[0m\u001b[1;34m'utf-8'\u001b[0m\u001b[1;33m)\u001b[0m \u001b[1;31m#create and open CSV file in wirte mode\u001b[0m\u001b[1;33m\u001b[0m\u001b[0m\n\u001b[0;32m----> 2\u001b[0;31m \u001b[0mrecordwriter\u001b[0m \u001b[1;33m=\u001b[0m \u001b[0mcsv\u001b[0m\u001b[1;33m.\u001b[0m\u001b[0mwriter\u001b[0m\u001b[1;33m(\u001b[0m\u001b[0mOutputFile\u001b[0m\u001b[1;33m)\u001b[0m\u001b[1;33m\u001b[0m\u001b[0m\n\u001b[0m\u001b[1;32m      3\u001b[0m \u001b[0mrecordwriter\u001b[0m\u001b[1;33m.\u001b[0m\u001b[0mwriterow\u001b[0m\u001b[1;33m(\u001b[0m\u001b[1;33m[\u001b[0m\u001b[1;34m'Author'\u001b[0m \u001b[1;33m,\u001b[0m \u001b[1;34m'Articles Shared'\u001b[0m\u001b[1;33m,\u001b[0m \u001b[1;34m'Articles Viewed'\u001b[0m \u001b[1;33m,\u001b[0m \u001b[1;34m'Articles Emailed'\u001b[0m \u001b[1;33m]\u001b[0m \u001b[1;33m)\u001b[0m\u001b[1;33m\u001b[0m\u001b[0m\n\u001b[1;32m      4\u001b[0m \u001b[0mshare_viewCount\u001b[0m \u001b[1;33m=\u001b[0m \u001b[1;33m{\u001b[0m\u001b[1;33m}\u001b[0m\u001b[1;33m\u001b[0m\u001b[0m\n\u001b[1;32m      5\u001b[0m \u001b[1;32mfor\u001b[0m \u001b[0mfile\u001b[0m \u001b[1;32min\u001b[0m \u001b[0mfiles_1\u001b[0m\u001b[1;33m:\u001b[0m\u001b[1;33m\u001b[0m\u001b[0m\n",
      "\u001b[0;31mNameError\u001b[0m: name 'csv' is not defined"
     ]
    }
   ],
   "source": [
    "OutputFile = open ('MostPopular.csv', 'wt', newline = '' , encoding='utf-8') #create and open CSV file in wirte mode\n",
    "recordwriter = csv.writer(OutputFile)\n",
    "recordwriter.writerow(['Author' , 'Articles Shared', 'Articles Viewed' , 'Articles Emailed' ] )\n",
    "share_viewCount = {}\n",
    "for file in files_1:\n",
    "    with open(file, \"r\") as f:\n",
    "        data = json.load(f)\n",
    "        results = data.get('results')\n",
    "        for result in results:\n",
    "            total_shares = result.get('total_shares')\n",
    "            byline = result.get('byline')\n",
    "            byline = byline.replace('By ', '')\n",
    "            byline = byline.replace('and ',',')\n",
    "            author = byline.split(',')\n",
    "            for x in author:\n",
    "                x = x.strip()\n",
    "                if x not in share_viewCount:\n",
    "                    share_viewCount[x]={}\n",
    "                    share_viewCount[x]['totalShares'] = total_shares\n",
    "                else:\n",
    "                    share_viewCount[x]['totalShares'] += total_shares\n",
    "#print(share_viewCount)"
   ]
  },
  {
   "cell_type": "code",
   "execution_count": 5,
   "metadata": {
    "collapsed": false
   },
   "outputs": [
    {
     "name": "stdout",
     "output_type": "stream",
     "text": [
      "{'': {'totalViews': 5}, 'YAMICHE ALCINDOR': {'totalShares': 6, 'totalViews': 7}, 'KENNETH CHANG': {'totalShares': 20}, 'MARK MAZZETTI': {'totalShares': 5, 'totalViews': 2}, 'SEWELL CHAN': {'totalShares': 18, 'totalViews': 11}, 'JO BECKER': {'totalViews': 12}, 'JEREMY W. PETERS': {'totalViews': 12}, 'THE EDITORIAL BOARD': {'totalViews': 15}, 'GLENN THRUSH': {'totalShares': 20, 'totalViews': 13}, 'PETER J. HOTEZ': {'totalShares': 2, 'totalViews': 17}, 'AMY KROUSE ROSENTHAL': {'totalShares': 7}, 'LAURIE GOODSTEIN': {'totalShares': 23, 'totalViews': 8}, 'MATTHEW ROSENBERG': {'totalShares': 31, 'totalViews': 13}, 'MICHAEL D. SHEAR': {'totalViews': 18}, 'JULIE HIRSCHFELD DAVIS': {'totalShares': 4, 'totalViews': 12}, 'THOMAS L. FRIEDMAN': {'totalShares': 10, 'totalViews': 19}, 'RON NIXON': {'totalViews': 16}, 'MAGGIE HABERMAN': {'totalShares': 20, 'totalViews': 13}, 'MICHAEL S. SCHMIDT': {'totalShares': 17, 'totalViews': 3}, 'EMMARIE HUETTEMAN': {'totalShares': 6, 'totalViews': 7}, 'THE NEW YORK TIMES': {'totalShares': 3, 'totalViews': 10}, 'ERIN GLORIA RYAN': {'totalShares': 16, 'totalViews': 9}, 'DAVID BROOKS': {'totalShares': 13}, 'JOHN KOBLIN': {'totalShares': 17}, 'CÉSAR GAVIRIA': {'totalShares': 11}, 'MATT APUZZO': {'totalShares': 24, 'totalViews': 18}, 'ADAM GOLDMAN': {'totalShares': 12, 'totalViews': 3}, 'ERIC LICHTBLAU': {'totalViews': 18}, 'CHARLES J. SYKES': {'totalShares': 14, 'totalViews': 14}, 'MICHAEL M. GRYNBAUM': {'totalShares': 4, 'totalViews': 6}, 'GAIL COLLINS': {'totalShares': 9}, 'MARK LANDLER': {'totalShares': 15, 'totalViews': 20}}\n"
     ]
    }
   ],
   "source": [
    "for file in files_2:\n",
    "    with open(file, \"r\") as f:\n",
    "        data = json.load(f)\n",
    "        results = data.get('results')\n",
    "        for result in results:\n",
    "            total_views = result.get('views')\n",
    "            byline = result.get('byline')\n",
    "            byline = byline.replace('By ', '')\n",
    "            byline = byline.replace('and ',',')\n",
    "            author = byline.split(',')\n",
    "            #print(author)\n",
    "            for x in author:\n",
    "                x = x.strip()\n",
    "                if x not in share_viewCount:\n",
    "                    share_viewCount[x]={}\n",
    "                    share_viewCount[x]['totalViews'] = total_views\n",
    "                else:\n",
    "                    share_viewCount[x]['totalViews'] = 0\n",
    "                    share_viewCount[x]['totalViews'] += total_views\n",
    "print(share_viewCount)"
   ]
  },
  {
   "cell_type": "code",
   "execution_count": 6,
   "metadata": {
    "collapsed": false
   },
   "outputs": [
    {
     "name": "stdout",
     "output_type": "stream",
     "text": [
      "{'': {'totalViews': 5, 'totalEmailed': 1}, 'YAMICHE ALCINDOR': {'totalShares': 6, 'totalViews': 7}, 'JOHN LELAND': {'totalEmailed': 1}, 'JEREMY W. PETERS': {'totalViews': 12}, 'JO BECKER': {'totalViews': 12}, 'ERIC LICHTBLAU': {'totalViews': 18}, 'THE EDITORIAL BOARD': {'totalViews': 15}, 'PETER J. HOTEZ': {'totalShares': 2, 'totalViews': 17}, 'JULIE HIRSCHFELD DAVIS': {'totalShares': 4, 'totalViews': 12}, 'PAUL KRUGMAN': {'totalEmailed': 1}, 'JASMINE C. LEE': {'totalEmailed': 1}, 'MICHAEL KIMMELMAN': {'totalEmailed': 1}, 'SEWELL CHAN': {'totalShares': 18, 'totalViews': 11}, 'LAURIE GOODSTEIN': {'totalShares': 23, 'totalViews': 8}, 'MICHAEL D. SHEAR': {'totalViews': 18}, 'THOMAS L. FRIEDMAN': {'totalShares': 10, 'totalViews': 19}, 'MAGGIE HABERMAN': {'totalShares': 20, 'totalViews': 13, 'totalEmailed': 1}, 'ERIN GLORIA RYAN': {'totalShares': 16, 'totalViews': 9}, 'GLENN THRUSH': {'totalShares': 20, 'totalViews': 13, 'totalEmailed': 1}, 'LIZ ALDERMAN': {'totalEmailed': 1}, 'JASON HOROWITZ': {'totalEmailed': 1}, 'MARK LANDLER': {'totalShares': 15, 'totalViews': 20}, 'RON NIXON': {'totalViews': 16}, 'MARK MAZZETTI': {'totalShares': 5, 'totalViews': 2, 'totalEmailed': 1}, 'JUGAL K. PATEL': {'totalEmailed': 1}, 'EMILY S. RUEB': {'totalEmailed': 1}, 'CHARLES J. SYKES': {'totalShares': 14, 'totalViews': 14, 'totalEmailed': 1}, 'HAEYOUN PARK': {'totalEmailed': 1}, 'AMY KROUSE ROSENTHAL': {'totalShares': 7}, 'KENNETH CHANG': {'totalShares': 20, 'totalEmailed': 1}, 'ANDREW ROSS SORKIN': {'totalEmailed': 1}, 'MICHAEL S. SCHMIDT': {'totalShares': 17, 'totalViews': 3, 'totalEmailed': 1}, 'MATTHEW ROSENBERG': {'totalShares': 31, 'totalViews': 13}, 'THE NEW YORK TIMES': {'totalShares': 3, 'totalViews': 10}, 'GRETCHEN REYNOLDS': {'totalEmailed': 1}, 'DAVID BROOKS': {'totalShares': 13, 'totalEmailed': 1}, 'JOHN KOBLIN': {'totalShares': 17}, 'CÉSAR GAVIRIA': {'totalShares': 11}, 'MATT APUZZO': {'totalShares': 24, 'totalViews': 18, 'totalEmailed': 1}, 'ADAM GOLDMAN': {'totalShares': 12, 'totalViews': 3}, 'EMMARIE HUETTEMAN': {'totalShares': 6, 'totalViews': 7}, 'NELL McSHANE WULFHART': {'totalEmailed': 1}, 'GINA KOLATA': {'totalEmailed': 1}, 'MICHAEL M. GRYNBAUM': {'totalShares': 4, 'totalViews': 6}, 'GAIL COLLINS': {'totalShares': 9}}\n"
     ]
    }
   ],
   "source": [
    "for file in files_3:\n",
    "    with open(file, \"r\") as f:\n",
    "        data = json.load(f)\n",
    "        results = data.get('results')\n",
    "        for result in results:\n",
    "            byline = result.get('byline')\n",
    "            byline = byline.replace('By ', '')\n",
    "            byline = byline.replace('and ',',')\n",
    "            author = byline.split(',')\n",
    "            #print(author)\n",
    "            for x in author:\n",
    "                x = x.strip()\n",
    "                if x not in share_viewCount:\n",
    "                    share_viewCount[x]= {}\n",
    "                    share_viewCount[x]['totalEmailed'] = 1\n",
    "                else:\n",
    "                    share_viewCount[x]['totalEmailed'] = 0\n",
    "                    share_viewCount[x]['totalEmailed'] += 1\n",
    "print(share_viewCount)"
   ]
  },
  {
   "cell_type": "code",
   "execution_count": 7,
   "metadata": {
    "collapsed": false
   },
   "outputs": [],
   "source": [
    "for x in share_viewCount:\n",
    "    if 'totalShares' not in share_viewCount[x]:\n",
    "        share_viewCount[x]['totalShares'] = 0\n",
    "    if 'totalViews' not in share_viewCount[x]:\n",
    "        share_viewCount[x]['totalViews'] = 0\n",
    "    if 'totalEmailed' not in share_viewCount[x]:\n",
    "        share_viewCount[x]['totalEmailed'] = 0\n",
    "    if x is not '':\n",
    "        recordwriter.writerow([x , share_viewCount[x]['totalShares'], share_viewCount[x]['totalViews'] , share_viewCount[x]['totalEmailed'] ] )\n",
    "#print(share_viewCount)"
   ]
  },
  {
   "cell_type": "code",
   "execution_count": 8,
   "metadata": {
    "collapsed": false
   },
   "outputs": [],
   "source": [
    "author_s ={}\n",
    "for x in share_viewCount:\n",
    "    if x not in author_s:\n",
    "        author_s[x] = share_viewCount[x]['totalShares']\n",
    "#print(author_s)\n",
    "sorted_s = sorted(author_s.items(), key=operator.itemgetter(1), reverse=True)\n",
    "#print(sorted_s)\n",
    "\n",
    "author_v ={}\n",
    "for x in share_viewCount:\n",
    "    if x not in author_v:\n",
    "        author_v[x] = share_viewCount[x]['totalViews']\n",
    "#print(author_s)\n",
    "sorted_v = sorted(author_v.items(), key=operator.itemgetter(1), reverse=True)\n",
    "#print(sorted_v)\n"
   ]
  },
  {
   "cell_type": "code",
   "execution_count": 9,
   "metadata": {
    "collapsed": false
   },
   "outputs": [
    {
     "name": "stdout",
     "output_type": "stream",
     "text": [
      "MARK LANDLER\n"
     ]
    }
   ],
   "source": [
    "most_pop_onShared = sorted_s[0][0]\n",
    "#print(most_pop_onShared)\n",
    "recordwriter.writerow(['Most Popular Author based on articles shared: ' , most_pop_onShared])\n",
    "most_pop_onViews = sorted_v[0][0]\n",
    "print(most_pop_onViews)\n",
    "recordwriter.writerow(['Most Popular Author based on articles viewed: ' , most_pop_onViews])\n",
    "OutputFile.close()"
   ]
  }
 ],
 "metadata": {
  "anaconda-cloud": {},
  "kernelspec": {
   "display_name": "Python [conda root]",
   "language": "python",
   "name": "conda-root-py"
  },
  "language_info": {
   "codemirror_mode": {
    "name": "ipython",
    "version": 3
   },
   "file_extension": ".py",
   "mimetype": "text/x-python",
   "name": "python",
   "nbconvert_exporter": "python",
   "pygments_lexer": "ipython3",
   "version": "3.5.2"
  }
 },
 "nbformat": 4,
 "nbformat_minor": 1
}
